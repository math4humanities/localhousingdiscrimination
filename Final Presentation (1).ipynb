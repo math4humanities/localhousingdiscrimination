{
 "cells": [
  {
   "cell_type": "markdown",
   "id": "3fe19431",
   "metadata": {},
   "source": [
    "\n",
    "Walla Rahama \n",
    "Intro to Data Programming Practicum DS2001 - 04/27/22\n",
    "File name: final_presentation\n",
    "Description: Final Presentation\n"
   ]
  },
  {
   "cell_type": "markdown",
   "id": "ea186ced",
   "metadata": {},
   "source": [
    "#  Part One : What Question Do I Want to Ask ? "
   ]
  },
  {
   "cell_type": "raw",
   "id": "874c92d5",
   "metadata": {},
   "source": [
    "    The question that I wanted to ask was : Are black populations unrighteously facing lending discrimination? "
   ]
  },
  {
   "cell_type": "markdown",
   "id": "f979a38d",
   "metadata": {},
   "source": [
    "   Homeownership is known as a vital driver of wealth creation, and even considered the epitome of the American Dream. However, since the 1960's there has exsisted a consequiental gap between white homeowneship and black homeownership. In fact, the gap is even wider today. I wanted to visualize the lending discrimination that is evidently taking place. Housing and lending discrimination practices such as redlining have made a disparate impact on the ability of Black-Americans to build equity. Despite the Fair Housing Act of 1968, the presence of such practices are still at an all time high. I truly believe if the homeownership gap were to close we'd be a big step closer to racial equity.\n",
    "   "
   ]
  },
  {
   "cell_type": "markdown",
   "id": "8d9892f5",
   "metadata": {},
   "source": [
    "   The Home Mortgage Disclosure Act, HDMA, passed in 1975 requires lenders to publicly disclose mortgage data. This is where i attained my dataset. I used the Modified Loan / Appplication Register (LAR) for a local Wells Fargo in Massachussets. After playing around with the data and different variables to observe. I came to the conclusion to only look at denied applicants. "
   ]
  },
  {
   "cell_type": "markdown",
   "id": "85a6ebfc",
   "metadata": {},
   "source": [
    "# Part 2 : A Deeper Look at Our Dataset"
   ]
  },
  {
   "cell_type": "markdown",
   "id": "a801dafc",
   "metadata": {},
   "source": [
    "   As discussed before, I will be looking at denied applicants at a local Wells Fargo. The dataset includes 1171 rows as well as 99 columns. The particular dataset I obtained is from the year 2020. The data was filtered again extensively to highlight four different variables:\n",
    "   1. Race\n",
    "   2. Income\n",
    "   3. Debt-to-Income Ratio\n",
    "   4. Property Value\n",
    "Rows that contained any Exempt or NA values were also removed from the dataset. The dataset may also include various ranges as opposed to a definite value.\n",
    "There are many limitations to this dataset, and the results of my visualization should be taken very lightly. This is a small set at one bank of millions. Not to mention, HDMA datasets include 99 total different columns.There are many external factors that play a role in deciding mortgage approval outside the variables I am studying."
   ]
  },
  {
   "cell_type": "markdown",
   "id": "7fdd0772",
   "metadata": {},
   "source": [
    "#   Part 3 : My Visualization "
   ]
  },
  {
   "cell_type": "markdown",
   "id": "3a292f4c",
   "metadata": {},
   "source": [
    "In order to create a relationship plot with four different variables, I decided to create a bubble plot using seaborn and the newly learned dataframing techniques from class. Firstly, I imported all useful modules to my plot."
   ]
  },
  {
   "cell_type": "code",
   "execution_count": null,
   "id": "972bcf1b",
   "metadata": {},
   "outputs": [],
   "source": [
    "import matplotlib.pyplot as plt\n",
    "import pandas as pd\n",
    "import seaborn as sns\n",
    "import random as rand "
   ]
  },
  {
   "cell_type": "markdown",
   "id": "83e7bf28",
   "metadata": {},
   "source": [
    "I will need to modify my data frame slightly in order to create my visualization, so I created some functions to help me extract data from a csv and attain columns and modify them."
   ]
  },
  {
   "cell_type": "code",
   "execution_count": null,
   "id": "f5c9eea3",
   "metadata": {},
   "outputs": [],
   "source": [
    "def read_file(filename):\n",
    "    ''' Function: read_file\n",
    "        Parameters: filename (string) for a CSV file\n",
    "        Returns: 2d list of what the file contains, where all the elements\n",
    "        are integers.\n",
    "    '''\n",
    "    contents = []\n",
    "    with open(filename, \"r\") as myfile:\n",
    "        for line_num, line in enumerate (myfile):\n",
    "           if line_num == 0 :\n",
    "                    continue\n",
    "           else:\n",
    "               row = line.strip().split(',')\n",
    "               contents.append(row)\n",
    "    return contents   "
   ]
  },
  {
   "cell_type": "code",
   "execution_count": null,
   "id": "6d11d6a4",
   "metadata": {},
   "outputs": [],
   "source": [
    "def get_info(contents, col):\n",
    "    ''' Function: get_info\n",
    "        Parameters: 2D list and the column number of the info we want to extract \n",
    "        Returns:a list of what the column contains\n",
    "    '''\n",
    "    col_info = []\n",
    "    for list_num,lists in enumerate(contents):\n",
    "        for position,element in enumerate(lists):\n",
    "            if position == col :\n",
    "                col_info.append(lists[position])\n",
    "    return col_info "
   ]
  },
  {
   "cell_type": "code",
   "execution_count": null,
   "id": "95351ae6",
   "metadata": {},
   "outputs": [],
   "source": [
    "def scale_down(variable, divider):\n",
    "    ''' Function: scale_down\n",
    "        Parameters: a variable list and an int to scale down the int values by\n",
    "        Returns:a list with all the scaled down elements\n",
    "    '''\n",
    "    new_contents = []\n",
    "    for position,element in enumerate(variable):\n",
    "        variable[position] = int(element)\n",
    "        new_contents.append((variable[position]) / divider)\n",
    "    return new_contents"
   ]
  },
  {
   "cell_type": "code",
   "execution_count": null,
   "id": "2f178ce7",
   "metadata": {},
   "outputs": [],
   "source": [
    "def remove_range(variable):\n",
    "    ''' Function: remove_range\n",
    "        Parameters: a list and the column number we want to remove the range\n",
    "        Returns: a list with a desired range removed by using random. All values are reverted back to strings.\n",
    "    '''\n",
    "    modified_variable = []\n",
    "    for position,element in enumerate(variable):\n",
    "        if  len(element) > 5 :\n",
    "            first_digit = int(element[:2])\n",
    "            second_digit = int(element[len(element) - 3: len(element)-1])\n",
    "            new_digit= rand.randint(first_digit,second_digit)\n",
    "            modified_variable.append(new_digit)\n",
    "        elif len(element) < 5 and len(element) > 2:\n",
    "            first_digit = int(element[1:3])\n",
    "            new_digit = rand.randint(0,first_digit)\n",
    "            modified_variable.append(new_digit)\n",
    "            \n",
    "            \n",
    "        else:\n",
    "            modified_variable.append(int(element))\n",
    "    modified_variable.sort()\n",
    "    print(modified_variable)\n",
    "    for position,element in enumerate(modified_variable):\n",
    "       modified_variable[position] = str(element)\n",
    "    return modified_variable\n",
    "        "
   ]
  },
  {
   "cell_type": "markdown",
   "id": "26faad7c",
   "metadata": {},
   "source": [
    "The following function plots our visualization."
   ]
  },
  {
   "cell_type": "code",
   "execution_count": null,
   "id": "52d6974c",
   "metadata": {},
   "outputs": [],
   "source": [
    "def plot_data(df,x_variable,y_variable,color, bubble_variable,\n",
    "              ):\n",
    "    ''' Function: plot_data\n",
    "        Parameters: four variable names and a dataframe \n",
    "        Returns: does not return anything but successfully plots the bubble plot for this project\n",
    "    '''\n",
    "\n",
    "    sns.set(rc={'axes.facecolor':'palegreen','figure.facecolor':'palegreen'})\n",
    "    fig, ax = plt.subplots()\n",
    "    plt.figure(figsize=(40,20))\n",
    "    sns.set_context(\"poster\",font_scale=2.8)\n",
    "    plot = sns.scatterplot(x = x_variable, \n",
    "                y = y_variable, \n",
    "                size = bubble_variable,\n",
    "                sizes =(2500,20000),\n",
    "                marker = '*',\n",
    "                edgecolor = 'black',\n",
    "                hue = color,\n",
    "                palette = ['hotpink','purple','crimson'],\n",
    "                alpha = 0.55,\n",
    "                data= df)\n",
    "    plt.legend(bbox_to_anchor=(1.0001,1),borderaxespad=0.85)\n",
    "    plt.xlabel(\"Debt to Income Percent\")\n",
    "    plt.ylabel(\"Income by Thousand\")\n",
    "    plt.title(\"Denied Mortgage Applicants\")\n",
    "    plt.grid(False)\n",
    "    plt.tight_layout()\n",
    "    plot.set(xticks=df.debt_to_income_ratio[3::10])\n",
    "    plt.savefig(\"Denied_mortgage_applicants.png\",format='png',dpi=150)"
   ]
  },
  {
   "cell_type": "code",
   "execution_count": null,
   "id": "7fa91850",
   "metadata": {},
   "outputs": [],
   "source": [
    "def main():\n",
    "    # Step 1 : Read our csv files\n",
    "    filename = 'denied_applicants.csv'\n",
    "    file = \"C:\\\\Users\\\\walla\\\\OneDrive - Northeastern University\\\\Desktop\\\\DS2001\\\\denied_applicants\"\n",
    "    contents = read_file(filename)\n",
    "    df = pd.read_csv(file)\n",
    "    #Step 2 : get columns that we would like to modify and modify them.\n",
    "    debt_income = get_info(contents,5)\n",
    "    debt_income_new = remove_range(debt_income) # Accounts for the range in the debt-to-income column\n",
    "    property_value = get_info(contents,3)\n",
    "    scaled_down_property = scale_down(property_value,1000) # Scales down property value for aesthetics.This does not\n",
    "                                                           # affect the nature of our plot.\n",
    "    # Change the columns in our data frame\n",
    "    df.debt_to_income_ratio = debt_income_new\n",
    "    df.property_value = scaled_down_property\n",
    "    # Step 3 : Choose random applicants from our data frame.This will make our plot a lot less overwhelming.\n",
    "    rate = 10\n",
    "    df = df[::rate]\n",
    "    print(df) \n",
    "    # Step 4 : Plot our data\n",
    "    plot_data(df,\"debt_to_income_ratio\",'income','derived_race', 'property_value')\n",
    "    \n",
    "main()"
   ]
  },
  {
   "cell_type": "raw",
   "id": "4b61c78d",
   "metadata": {},
   "source": [
    " **I printed my dataframe as well to assist in making sense of the visuaization**"
   ]
  },
  {
   "cell_type": "markdown",
   "id": "d1bb2308",
   "metadata": {},
   "source": [
    "#  Part Four : Visualization Intrepretation"
   ]
  },
  {
   "cell_type": "markdown",
   "id": "7f0a2116",
   "metadata": {},
   "source": [
    " My plot depicts a relationship between four different variables: race, income, debt-to-income, and property value. On the x-axis is the debt-to-income percent which is plotted against the y-axis which represents income by the thousand. Then, color accounts for race, and size accounts for property value. As portrayed on the plot, a large majority of denied black applicants are clustered on the bottom left of the plot. Being on the bottom left of the plot implies a desirable debt to income ratio, <40%, paired with a lower income, <100k. However, it's important to note the size of the data points in this region. The stars are small which implies the property values were all less than 400k.Even points outside this region that can be considered outliers were also quite interesting to observe. For, these applicants although have a sub par debt-to-income ratio they both had wise income-property value values.\n",
    "  \n",
    "  Lending companies are known to prioritize debt-to-income ratios over credit scores, so my plot portrays that black applicants are often times denied mortgages without adequate reason. I also included other races such as White and Asian to emphasis this is not always the case. A majority of White and Asian data points were on the right hand of the screen, and the average size of a data point is also significantly greater in terms of property value.\n",
    " \n",
    " As predicted the dataset supports the idea that Black populations are more likely to be denied a mortgage despite being in sensible financial standing to do so. I acknowledge that my dataset has numerous limititations, and there are many other external factors I did not observe that can contribute to the nature of my plot. I was not surprised, however, I did find it noteworthy that this was just one bank and a small group of appplicants, yet the data was strong enough to still exibihit a pattern of prejudice.It goes to show how widespread and common these issues are."
   ]
  }
 ],
 "metadata": {
  "kernelspec": {
   "display_name": "Python 3 (ipykernel)",
   "language": "python",
   "name": "python3"
  },
  "language_info": {
   "codemirror_mode": {
    "name": "ipython",
    "version": 3
   },
   "file_extension": ".py",
   "mimetype": "text/x-python",
   "name": "python",
   "nbconvert_exporter": "python",
   "pygments_lexer": "ipython3",
   "version": "3.9.7"
  }
 },
 "nbformat": 4,
 "nbformat_minor": 5
}
